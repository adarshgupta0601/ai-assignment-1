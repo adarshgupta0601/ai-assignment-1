{
  "nbformat": 4,
  "nbformat_minor": 0,
  "metadata": {
    "colab": {
      "name": "cal1.ipynb",
      "provenance": [],
      "authorship_tag": "ABX9TyPTXQh5kM9RqgVPYkzEWreF",
      "include_colab_link": true
    },
    "kernelspec": {
      "name": "python3",
      "display_name": "Python 3"
    }
  },
  "cells": [
    {
      "cell_type": "markdown",
      "metadata": {
        "id": "view-in-github",
        "colab_type": "text"
      },
      "source": [
        "<a href=\"https://colab.research.google.com/github/adarshgupta0601/ai-assignment-1/blob/master/cal1.ipynb\" target=\"_parent\"><img src=\"https://colab.research.google.com/assets/colab-badge.svg\" alt=\"Open In Colab\"/></a>"
      ]
    },
    {
      "cell_type": "code",
      "metadata": {
        "id": "XLv9pydhktRa",
        "colab_type": "code",
        "colab": {}
      },
      "source": [
        "try:\n",
        "  get_value1=int(input(\"Enter the value 1= \"))\n",
        "  get_value2=int(input(\"Enter the value 2= \"))\n",
        "  ope=input(\"Enter operator: \")\n",
        "\n",
        "  def calculator(value1,value2,operator):\n",
        "    if operator==\"+\":\n",
        "      return value1+value2\n",
        "    elif operator==\"-\":\n",
        "      return value1-value2\n",
        "    elif operator==\"/\":\n",
        "      return value1/value2\n",
        "    else:\n",
        "      return print(\"invalid operation\")\n",
        "\n",
        "  result=calculator(get_value1,get_value2,ope)\n",
        "  print(result)\n",
        "except ValueError:\n",
        "  print(\"invalid value,number must be integer type only!\")"
      ],
      "execution_count": 0,
      "outputs": []
    }
  ]
}