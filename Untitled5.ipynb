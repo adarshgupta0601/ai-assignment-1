{
  "nbformat": 4,
  "nbformat_minor": 0,
  "metadata": {
    "colab": {
      "name": "Untitled5.ipynb",
      "provenance": [],
      "authorship_tag": "ABX9TyPw08rTfFdnBVJVj1IvLloJ",
      "include_colab_link": true
    },
    "kernelspec": {
      "name": "python3",
      "display_name": "Python 3"
    }
  },
  "cells": [
    {
      "cell_type": "markdown",
      "metadata": {
        "id": "view-in-github",
        "colab_type": "text"
      },
      "source": [
        "<a href=\"https://colab.research.google.com/github/adarshgupta0601/ai-assignment-1/blob/master/Untitled5.ipynb\" target=\"_parent\"><img src=\"https://colab.research.google.com/assets/colab-badge.svg\" alt=\"Open In Colab\"/></a>"
      ]
    },
    {
      "cell_type": "code",
      "metadata": {
        "id": "hNQrAXdDUUGJ",
        "colab_type": "code",
        "outputId": "4e3b286c-a1f9-4c9b-a2c8-e9a80a31a147",
        "colab": {
          "base_uri": "https://localhost:8080/",
          "height": 67
        }
      },
      "source": [
        "try:\n",
        "  get_value1=int(input(\"Enter the value 1= \"))\n",
        "  get_value2=int(input(\"Enter the value 2= \"))\n",
        "  ope=input(\"Enter operator: \")\n",
        "\n",
        "  def calculator(value1,value2,operator):\n",
        "    if operator==\"+\":\n",
        "      return value1 +value2\n",
        "    elif operator==\"-\":\n",
        "      return value1 -value2\n",
        "    else:\n",
        "      return value1/value2\n",
        "\n",
        "  result=calculator(get_value1,get_value2,ope)\n",
        "  print(result)\n",
        "\"\"\" except NameError:\n",
        "  print(\"Invalid name!\")  \"\"\"\n",
        "except ValueError:\n",
        "  print(\"invalid value,number must be integer type only!\")"
      ],
      "execution_count": 0,
      "outputs": [
        {
          "output_type": "stream",
          "text": [
            "Enter the value 1= 56\n",
            "Enter the value 2= 9090.9\n",
            "invalid value,number must be integer type only!\n"
          ],
          "name": "stdout"
        }
      ]
    },
    {
      "cell_type": "markdown",
      "metadata": {
        "id": "L7DmR6WBb8pj",
        "colab_type": "text"
      },
      "source": [
        "#Calculator using exception handling: (Little bit)"
      ]
    },
    {
      "cell_type": "code",
      "metadata": {
        "id": "CiLqKL5Rf-B5",
        "colab_type": "code",
        "outputId": "df3692f7-5bd5-42d0-aacd-84b5d1b2c713",
        "colab": {
          "base_uri": "https://localhost:8080/",
          "height": 84
        }
      },
      "source": [
        "try:\n",
        "  get_value1=int(input(\"Enter the value 1= \"))\n",
        "  get_value2=int(input(\"Enter the value 2= \"))\n",
        "  ope=input(\"Enter operator: \")\n",
        "\n",
        "  def calculator(value1,value2,operator):\n",
        "    if operator==\"+\":\n",
        "      return value1+value2\n",
        "    elif operator==\"-\":\n",
        "      return value1-value2\n",
        "    elif operator==\"/\":\n",
        "      return value1/value2\n",
        "    else:\n",
        "      return print(\"invalid operation\")\n",
        "\n",
        "  result=calculator(get_value1,get_value2,ope)\n",
        "  print(result)\n",
        "except ValueError:\n",
        "  print(\"invalid value,number must be integer type only!\")"
      ],
      "execution_count": 0,
      "outputs": [
        {
          "output_type": "stream",
          "text": [
            "Enter the value 1= 6\n",
            "Enter the value 2= 4\n",
            "Enter operator: /\n",
            "1.5\n"
          ],
          "name": "stdout"
        }
      ]
    }
  ]
}